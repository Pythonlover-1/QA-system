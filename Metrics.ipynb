{
 "cells": [
  {
   "cell_type": "markdown",
   "id": "85d37190-c806-4e7b-8416-97b8237516d5",
   "metadata": {},
   "source": [
    "Заметим, что оценка качества решения нашей задачи сводится к оценке задачи классификации"
   ]
  },
  {
   "cell_type": "markdown",
   "id": "33ab000e-af02-4765-944f-dab0dba45623",
   "metadata": {},
   "source": [
    "Наша система:\n",
    "  * Получает вопрос + контекст + несколько вариантов ответа\n",
    "  * Должна выбрать один корректный ответ\n",
    "  * Имеет разметку (label 0/1 для правильных/неправильных ответов)\n",
    "\n",
    "Это бинарная классификация, т.к. оценивается \"правильно/неправильно\" для каждого кандидата"
   ]
  },
  {
   "cell_type": "markdown",
   "id": "8d8c4a55-4a5a-4e67-857e-50d984a66430",
   "metadata": {},
   "source": [
    "Таким образом, будем использовать классические для бинарной классификации метрики:\n",
    " * Accuracy (для быстрой общей оценки модели)\n",
    " * F1-меру (учитывает и ложноположительные, и ложноотрицательные случаи)"
   ]
  }
 ],
 "metadata": {
  "kernelspec": {
   "display_name": "Python 3 (ipykernel)",
   "language": "python",
   "name": "python3"
  },
  "language_info": {
   "codemirror_mode": {
    "name": "ipython",
    "version": 3
   },
   "file_extension": ".py",
   "mimetype": "text/x-python",
   "name": "python",
   "nbconvert_exporter": "python",
   "pygments_lexer": "ipython3",
   "version": "3.11.5"
  }
 },
 "nbformat": 4,
 "nbformat_minor": 5
}
