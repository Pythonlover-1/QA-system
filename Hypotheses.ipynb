{
 "cells": [
  {
   "cell_type": "markdown",
   "id": "ee3e3c68-0b15-45f5-8628-24a38b5f9ea0",
   "metadata": {},
   "source": [
    "### Первая гипотеза"
   ]
  },
  {
   "cell_type": "markdown",
   "id": "6a3697db-ebc4-4ae9-98c0-c2737dc8a013",
   "metadata": {},
   "source": [
    "#### Ответы можно найти в непосредственном контексте вопроса в тексте."
   ]
  },
  {
   "cell_type": "markdown",
   "id": "e7357d50-1803-4064-ae62-42eca074a607",
   "metadata": {},
   "source": [
    "Поэтому предлагается использовать NLP модели для задачи question-answering с контекстом, полученным из документа. Однако необходимо выбирать из предложенных варинатов ответа (этот вывод был сделан в процессе анализа данных), поэтому необходимо будет выбрать наиболее близкий ответ из предложенных к тому, который выдала модель."
   ]
  },
  {
   "cell_type": "markdown",
   "id": "976b9237-d649-44a5-8b60-f0ee0a8c3060",
   "metadata": {},
   "source": [
    "### Вторая гипотеза"
   ]
  },
  {
   "cell_type": "markdown",
   "id": "98a44b14-1009-4cac-906a-b3a84cfb5f54",
   "metadata": {},
   "source": [
    "#### Правильный ответ из предложенных и ответ, данный моделью, близки по смыслу."
   ]
  },
  {
   "cell_type": "markdown",
   "id": "6bf503d9-88df-4e07-a8c8-d47f7c5d55ef",
   "metadata": {},
   "source": [
    "А это значит, что можно использовать embedding-и для того, чтобы по косинусному сходству определять, какой ответ из предложенных ближе всех по смыслу к тому, который дала модель"
   ]
  },
  {
   "cell_type": "code",
   "execution_count": null,
   "id": "ca68e240-1516-4cfa-8e57-57ab527f88a3",
   "metadata": {},
   "outputs": [],
   "source": []
  }
 ],
 "metadata": {
  "kernelspec": {
   "display_name": "Python 3 (ipykernel)",
   "language": "python",
   "name": "python3"
  },
  "language_info": {
   "codemirror_mode": {
    "name": "ipython",
    "version": 3
   },
   "file_extension": ".py",
   "mimetype": "text/x-python",
   "name": "python",
   "nbconvert_exporter": "python",
   "pygments_lexer": "ipython3",
   "version": "3.11.5"
  }
 },
 "nbformat": 4,
 "nbformat_minor": 5
}
